{
 "cells": [
  {
   "cell_type": "markdown",
   "metadata": {},
   "source": [
    "# Use `get_rm_from_skycoord` and compare with values from RMextract"
   ]
  },
  {
   "cell_type": "markdown",
   "metadata": {},
   "source": [
    "This example script shows how to get ionospheric rotation measures for a give source,\n",
    "observer location and array of times. This script uses the default ionospheric settings,\n",
    "which are good for most purposes."
   ]
  },
  {
   "cell_type": "code",
   "execution_count": null,
   "metadata": {},
   "outputs": [],
   "source": [
    "from __future__ import annotations\n",
    "\n",
    "import astropy.units as u\n",
    "import matplotlib.pyplot as plt\n",
    "import numpy as np\n",
    "from astropy.coordinates import EarthLocation, SkyCoord\n",
    "from astropy.time import Time\n",
    "from astropy.visualization import quantity_support, time_support\n",
    "from spinifex import get_rm"
   ]
  },
  {
   "cell_type": "code",
   "execution_count": null,
   "metadata": {},
   "outputs": [],
   "source": [
    "### Required to load local data for example - not needed for normal use\n",
    "from importlib import resources\n",
    "\n",
    "with resources.as_file(resources.files(\"spinifex.data.tests\")) as datapath:\n",
    "    spinifex_data = datapath\n",
    "###"
   ]
  },
  {
   "cell_type": "code",
   "execution_count": null,
   "metadata": {},
   "outputs": [],
   "source": [
    "times = Time(\"2020-01-08T01:13:00\") + np.arange(10) * 1 * u.hr\n",
    "# create source object\n",
    "source = SkyCoord(ra=350.85 * u.deg, dec=58.815 * u.deg)\n",
    "# create Earth Location\n",
    "lon = 6.367 * u.deg\n",
    "lat = 52.833 * u.deg\n",
    "dwingeloo = EarthLocation(lon=lon, lat=lat, height=0 * u.km)\n",
    "# get rotation measures\n",
    "rm = get_rm.get_rm_from_skycoord(\n",
    "    loc=dwingeloo,\n",
    "    times=times,\n",
    "    source=source,\n",
    "    # We set these options to use the data packaged with spinifex\n",
    "    # Unsetting them will cause the function to download the data from the internet\n",
    "    output_directory=spinifex_data,\n",
    ")"
   ]
  },
  {
   "cell_type": "markdown",
   "metadata": {},
   "source": [
    "To get the values from the same server, source and time from RMextract, install RMextract and uncomment the following lines:"
   ]
  },
  {
   "cell_type": "code",
   "execution_count": null,
   "metadata": {},
   "outputs": [],
   "source": [
    "# import RMextract.getRM as gt\n",
    "# starttime = times[0].mjd*24*3600.  # getRM still wants MJD time in seconds (casacore definition)\n",
    "# endtime = times[-1].mjd*24*3600\n",
    "# statpos = [dwingeloo.x.to(u.m).value, dwingeloo.y.to(u.m).value, dwingeloo.z.to(u.m).value]\n",
    "# pointing=[ source.ra.rad,  source.dec.rad ] #3C196  Ra, Dec in radians\n",
    "# RMdict = gt.getRM(ionexPath='./ionex_data/', radec=pointing, timestep=3600, timerange = [starttime, endtime],\n",
    "# stat_positions=[statpos,],earth_rot=1, prefix='uqrg', server=\"http://chapman.upc.es\")\n"
   ]
  },
  {
   "cell_type": "markdown",
   "metadata": {},
   "source": [
    "Here we directly take the values we got from the above code, to avoid installing RMextract"
   ]
  },
  {
   "cell_type": "code",
   "execution_count": null,
   "metadata": {},
   "outputs": [],
   "source": [
    "RMdict = {}\n",
    "RMdict[\"RM\"] = {}\n",
    "RMdict[\"RM\"][\"st1\"] = np.array(\n",
    "    [\n",
    "        [0.10242756],\n",
    "        [0.08804738],\n",
    "        [0.07332737],\n",
    "        [0.08251355],\n",
    "        [0.07816817],\n",
    "        [0.08137425],\n",
    "        [0.11095578],\n",
    "        [0.15794444],\n",
    "        [0.26828872],\n",
    "        [0.36951645],\n",
    "        [0.44763038],\n",
    "        [0.49045776],\n",
    "    ]\n",
    ")\n",
    "RMdict[\"times\"] = np.array(\n",
    "    [\n",
    "        5.08515918e09,\n",
    "        5.08516278e09,\n",
    "        5.08516638e09,\n",
    "        5.08516998e09,\n",
    "        5.08517358e09,\n",
    "        5.08517718e09,\n",
    "        5.08518078e09,\n",
    "        5.08518438e09,\n",
    "        5.08518798e09,\n",
    "        5.08519158e09,\n",
    "        5.08519518e09,\n",
    "        5.08519878e09,\n",
    "    ]\n",
    ")\n",
    "RMdict[\"azimuth\"] = {}\n",
    "RMdict[\"azimuth\"][\"st1\"] = np.array(\n",
    "    [\n",
    "        -0.5065002,\n",
    "        -0.37364739,\n",
    "        -0.23410709,\n",
    "        -0.09012949,\n",
    "        0.05561559,\n",
    "        0.20026593,\n",
    "        0.34108016,\n",
    "        0.475697,\n",
    "        0.60222255,\n",
    "        0.7190818,\n",
    "        0.82458167,\n",
    "        0.9159993,\n",
    "    ]\n",
    ")\n",
    "RMdict[\"elev\"] = {}\n",
    "RMdict[\"elev\"][\"st1\"] = np.array(\n",
    "    [\n",
    "        0.52492472,\n",
    "        0.45731976,\n",
    "        0.40983145,\n",
    "        0.38421338,\n",
    "        0.38147449,\n",
    "        0.40172543,\n",
    "        0.44416086,\n",
    "        0.50718446,\n",
    "        0.58862976,\n",
    "        0.68600301,\n",
    "        0.79668206,\n",
    "        0.91802653,\n",
    "    ]\n",
    ")"
   ]
  },
  {
   "cell_type": "code",
   "execution_count": null,
   "metadata": {},
   "outputs": [],
   "source": [
    "rm_rme = RMdict[\"RM\"][\"st1\"]\n",
    "times_rme = Time(RMdict[\"times\"] / (3600 * 24), format=\"mjd\")\n",
    "az_rme = np.degrees(RMdict[\"azimuth\"][\"st1\"])\n",
    "elev_rme = np.degrees(RMdict[\"elev\"][\"st1\"])"
   ]
  },
  {
   "cell_type": "code",
   "execution_count": null,
   "metadata": {},
   "outputs": [],
   "source": [
    "# print to screen\n",
    "rotation_measures = rm.rm\n",
    "rm_times = rm.times\n",
    "elevations = rm.elevation\n",
    "azimuths = rm.azimuth\n",
    "print(\"time      RM (rad/lambda^2)      azimuth (deg)      elevation (deg)\")\n",
    "for myrm, tm, az, el in zip(rotation_measures, rm_times, azimuths, elevations):\n",
    "    print(f\"{tm.isot} {myrm} {az:3.2f} {el:2.2f}\")\n",
    "print(\"Values from RMextract:\")\n",
    "for myrm, tm, az, el in zip(rm_rme, times_rme, az_rme, elev_rme):\n",
    "    print(f\"{tm.isot} {myrm} {az:3.2f} {el:2.2f}\")"
   ]
  },
  {
   "cell_type": "code",
   "execution_count": null,
   "metadata": {},
   "outputs": [],
   "source": [
    "with time_support(), quantity_support():\n",
    "    fig, ax = plt.subplots()\n",
    "    im = ax.errorbar(rm.times.datetime, rm.rm, rm.rm_error, fmt=\".\", label=\"spinifex\")\n",
    "    im2 = ax.plot(times_rme.datetime, rm_rme, \"o-\", label=\"RMextract\")\n",
    "    ax.set_ylabel(\"RM / rad/m$^2$\")\n",
    "    ax.legend()\n",
    "    plt.xticks(rotation=20)"
   ]
  }
 ],
 "metadata": {
  "kernelspec": {
   "display_name": "Python 3 (ipykernel)",
   "language": "python",
   "name": "python3"
  },
  "language_info": {
   "codemirror_mode": {
    "name": "ipython",
    "version": 3
   },
   "file_extension": ".py",
   "mimetype": "text/x-python",
   "name": "python",
   "nbconvert_exporter": "python",
   "pygments_lexer": "ipython3",
   "version": "3.13.3"
  }
 },
 "nbformat": 4,
 "nbformat_minor": 4
}
